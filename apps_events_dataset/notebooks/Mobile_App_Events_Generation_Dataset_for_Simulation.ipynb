{
  "nbformat": 4,
  "nbformat_minor": 0,
  "metadata": {
    "colab": {
      "provenance": []
    },
    "kernelspec": {
      "name": "python3",
      "display_name": "Python 3"
    },
    "language_info": {
      "name": "python"
    }
  },
  "cells": [
    {
      "cell_type": "code",
      "execution_count": 1,
      "metadata": {
        "id": "rLWLj7FRi964"
      },
      "outputs": [],
      "source": [
        "import pandas as pd\n",
        "import random\n",
        "import time\n",
        "import hashlib\n",
        "from datetime import datetime"
      ]
    },
    {
      "cell_type": "code",
      "source": [
        "# Define lists of cities, online payment methods, operating systems, phone models, and purchase statuses\n",
        "cities = ['Mexico City', 'Guadalajara', 'Monterrey', 'Puebla', 'Tijuana']\n",
        "payment_online = ['Credit_card', 'Spei', 'PayPal', 'OXXO Pay']\n",
        "os = ['Android_13', 'iOS_16', 'Windows_11', 'macOS_Monterey', 'Linux_Ubuntu_22.04']\n",
        "final_user_event = ['PURCHASE', 'EXIT_APP', 'PURCHASE', 'EXIT_APP', 'PURCHASE']\n",
        "phone_models = [\n",
        "    'Samsung Galaxy S21', 'Samsung Galaxy S22', 'iPhone 13 Pro', 'iPhone 14 Pro Max',\n",
        "    'Google Pixel 6', 'Google Pixel 7',\n",
        "    'OnePlus 9 Pro', 'OnePlus 10 Pro',\n",
        "    'Xiaomi Mi 11', 'Xiaomi Mi 12',\n",
        "    'Huawei P40', 'Huawei P50',\n",
        "    'Sony Xperia 5 III', 'Sony Xperia 6',\n",
        "    'LG Velvet', 'LG Velvet 2',\n",
        "    'Motorola Moto G Power', 'Motorola Moto G Power 2',\n",
        "    'Oppo Find X3 Pro', 'Oppo Find X4 Pro'\n",
        "]\n",
        "purchase_statuses = [\n",
        "    'COMPLETED', 'FAILED_CHECKOUT', 'FAILED_API_RESPONSE',\n",
        "    'INSUFFICIENT_FUNDS', 'USER_ERROR', 'FRAUD', 'PENDING', 'CANCELLED'\n",
        "]\n",
        "\n",
        "# Define initial events, user events, and event categories\n",
        "initial_event = 'LAUNCH_APP'\n",
        "second_event = ['HOME', 'EXIT_APP', 'HOME']\n",
        "third_event = ['GO_TO_CATEGORY', 'EXIT_APP', 'GO_TO_CATEGORY', 'GO_TO_CATEGORY']\n",
        "event_category = ['ELECTRONICS', 'CLOTHING', 'FOOD', 'HOME_APPLIANCES', 'BOOKS', 'SPORTS']\n",
        "\n",
        "# Define coordinates for cities\n",
        "mexico_city_coords = (19.4326, -99.1332)\n",
        "guadalajara_coords = (20.6597, -103.3496)\n",
        "monterrey_coords = (25.6866, -100.3161)\n",
        "puebla_coords = (19.0414, -98.2063)\n",
        "tijuana_coords = (32.5149, -117.0382)"
      ],
      "metadata": {
        "id": "naba5xzyk-_c"
      },
      "execution_count": 9,
      "outputs": []
    },
    {
      "cell_type": "code",
      "source": [
        "# Create a list of users beforehand\n",
        "def create_massive_users(n_users):\n",
        "    users_bank = []\n",
        "\n",
        "    for i in range(n_users):\n",
        "        date = pd.to_datetime('today').strftime(\"%Y-%m-%d %H:%M:%S\")\n",
        "        users_bank.append(str(hashlib.sha256(f\"{i} {date}\".encode('utf-8')).hexdigest())[:10])\n",
        "\n",
        "    return users_bank\n",
        "\n",
        "\n",
        "# Function to get the second event based on random choices\n",
        "def get_second_event(initial_event, second_event, third_event, os, cities):\n",
        "    event_2 = random.choice(second_event)\n",
        "    if event_2 == 'HOME':\n",
        "        event_3 = random.choice(third_event)\n",
        "        if event_3 == 'GO_TO_CATEGORY':\n",
        "            last_event = random.choice(event_category)\n",
        "            final_event = random.choice(final_user_event)\n",
        "            if final_event == 'PURCHASE':\n",
        "                payment = random.choice(payment_online)\n",
        "                os_source = random.choice(os)\n",
        "                city = random.choice(cities)\n",
        "                status = 'COMPLETED'\n",
        "                order_type = 'PURCHASE'\n",
        "            elif final_event == 'EXIT_APP':\n",
        "                payment = 'Null'\n",
        "                os_source = random.choice(os)\n",
        "                city = random.choice(cities)\n",
        "                status = 'UNCONVERTED'\n",
        "                order_type = 'USER_VISIT'\n",
        "        elif event_3 == 'EXIT_APP':\n",
        "            payment = 'Null'\n",
        "            os_source = random.choice(os)\n",
        "            city = random.choice(cities)\n",
        "            status = 'UNCONVERTED'\n",
        "            order_type = 'USER_VISIT'\n",
        "            last_event = 'HOME'\n",
        "    else:\n",
        "        payment = 'Null'\n",
        "        os_source = random.choice(os)\n",
        "        city = random.choice(cities)\n",
        "        status = 'UNCONVERTED'\n",
        "        order_type = 'USER_VISIT'\n",
        "        last_event = 'LAUNCH_APP'\n",
        "        event_3 = 'Null'\n",
        "    return initial_event, event_2, event_3, last_event, os_source, city, order_type, status, payment\n",
        "\n",
        "# Function to get coordinates of a city\n",
        "def get_coords(city):\n",
        "    if city == 'Mexico City':\n",
        "        coords = mexico_city_coords\n",
        "    elif city == 'Guadalajara':\n",
        "        coords = guadalajara_coords\n",
        "    elif city == 'Monterrey':\n",
        "        coords = monterrey_coords\n",
        "    elif city == 'Puebla':\n",
        "        coords = puebla_coords\n",
        "    elif city == 'Tijuana':\n",
        "        coords = tijuana_coords\n",
        "    return coords"
      ],
      "metadata": {
        "id": "zyHsj9UkmDIv"
      },
      "execution_count": 10,
      "outputs": []
    },
    {
      "cell_type": "code",
      "source": [
        "# Function to generate simulated data\n",
        "def generate_simulated_data(num_records, num_users):\n",
        "    # Create a list of random users\n",
        "    user_list = create_massive_users(num_users)\n",
        "\n",
        "    user_purchase_count = {}\n",
        "    data_purchase = []\n",
        "    x = 0\n",
        "\n",
        "    while x < num_records:\n",
        "        date = pd.to_datetime('today').strftime(\"%Y-%m-%d %H:%M:%S\")\n",
        "        event = get_second_event(initial_event, second_event, third_event, os, cities)\n",
        "        user_id = random.choice(user_list)  # Randomly select a user from the list\n",
        "        event_user_1 = event[0]\n",
        "        event_user_2 = event[1]\n",
        "        event_user_3 = event[2]\n",
        "        event_user_4 = event[3]\n",
        "        event_user_os = event[4]\n",
        "        event_user_city = event[5]\n",
        "        event_user_order = event[6]\n",
        "        event_user_status = event[7]\n",
        "        event_user_payment = event[8]\n",
        "\n",
        "        # Get the current hour and day\n",
        "        current_hour = datetime.now().hour\n",
        "        current_day = datetime.now().day\n",
        "\n",
        "        # Update user's purchase count for the current hour and day\n",
        "        if user_id not in user_purchase_count:\n",
        "            user_purchase_count[user_id] = {'hourly_count': {current_hour: 1}, 'daily_count': {current_day: 1}}\n",
        "        else:\n",
        "            if current_hour in user_purchase_count[user_id]['hourly_count']:\n",
        "                user_purchase_count[user_id]['hourly_count'][current_hour] += 1\n",
        "            else:\n",
        "                user_purchase_count[user_id]['hourly_count'][current_hour] = 1\n",
        "\n",
        "            if current_day in user_purchase_count[user_id]['daily_count']:\n",
        "                user_purchase_count[user_id]['daily_count'][current_day] += 1\n",
        "            else:\n",
        "                user_purchase_count[user_id]['daily_count'][current_day] = 1\n",
        "\n",
        "        purchase = {'USER_ID': user_id,\n",
        "                    'INITIAL_EVENT': event_user_1,\n",
        "                    'EVENT_2': event_user_2,\n",
        "                    'EVENT_3': event_user_3,\n",
        "                    'EVENT_OUT': event_user_4,\n",
        "                    'OS_USER': event_user_os,\n",
        "                    'CITY': event_user_city,\n",
        "                    'LATITUDE': get_coords(event_user_city)[0],\n",
        "                    'LONGITUDE': get_coords(event_user_city)[1],\n",
        "                    'ORDER_TYPE': event_user_order,\n",
        "                    'STATUS': event_user_status,\n",
        "                    'PAYMENT_METHOD': event_user_payment,\n",
        "                    'CREATED_AT': date,\n",
        "                    'HOURLY_PURCHASE_COUNT': user_purchase_count[user_id]['hourly_count'].get(current_hour, 0),\n",
        "                    'DAILY_PURCHASE_COUNT': user_purchase_count[user_id]['daily_count'].get(current_day, 0)}\n",
        "\n",
        "        data_purchase.append(pd.DataFrame(purchase, index=[x]))\n",
        "        #print(purchase)\n",
        "        x += 1\n",
        "        time.sleep(random.choice([1, 1.5, 2]))\n",
        "\n",
        "    return pd.concat(data_purchase, ignore_index=True)\n"
      ],
      "metadata": {
        "id": "IkxOc65SrIZt"
      },
      "execution_count": 18,
      "outputs": []
    },
    {
      "cell_type": "code",
      "source": [
        "# Generate simulated data (you can specify the number of records and users)\n",
        "simulated_data = generate_simulated_data(num_records=100, num_users=1000)"
      ],
      "metadata": {
        "id": "ky7L9kDBqUtJ"
      },
      "execution_count": 19,
      "outputs": []
    },
    {
      "cell_type": "code",
      "source": [
        "# Convert the data to a Pandas DataFrame\n",
        "df_simulated_data = pd.DataFrame(simulated_data)"
      ],
      "metadata": {
        "id": "TJcyFCymrRIp"
      },
      "execution_count": 20,
      "outputs": []
    },
    {
      "cell_type": "code",
      "source": [
        "print(df_simulated_data.head())"
      ],
      "metadata": {
        "colab": {
          "base_uri": "https://localhost:8080/"
        },
        "id": "V-rRMPKBvnFm",
        "outputId": "f95c62b0-20ad-4375-b623-365531b57e19"
      },
      "execution_count": 21,
      "outputs": [
        {
          "output_type": "stream",
          "name": "stdout",
          "text": [
            "      USER_ID INITIAL_EVENT   EVENT_2         EVENT_3        EVENT_OUT  \\\n",
            "0  a0c530af81    LAUNCH_APP  EXIT_APP            Null       LAUNCH_APP   \n",
            "1  240f7b66ce    LAUNCH_APP      HOME        EXIT_APP             HOME   \n",
            "2  71d7c490c3    LAUNCH_APP  EXIT_APP            Null       LAUNCH_APP   \n",
            "3  b0c9dfbd48    LAUNCH_APP      HOME  GO_TO_CATEGORY  HOME_APPLIANCES   \n",
            "4  d6fbd81f22    LAUNCH_APP      HOME  GO_TO_CATEGORY             FOOD   \n",
            "\n",
            "              OS_USER         CITY  LATITUDE  LONGITUDE  ORDER_TYPE  \\\n",
            "0          Android_13      Tijuana   32.5149  -117.0382  USER_VISIT   \n",
            "1  Linux_Ubuntu_22.04    Monterrey   25.6866  -100.3161  USER_VISIT   \n",
            "2              iOS_16    Monterrey   25.6866  -100.3161  USER_VISIT   \n",
            "3              iOS_16  Guadalajara   20.6597  -103.3496    PURCHASE   \n",
            "4              iOS_16    Monterrey   25.6866  -100.3161    PURCHASE   \n",
            "\n",
            "        STATUS PAYMENT_METHOD           CREATED_AT  HOURLY_PURCHASE_COUNT  \\\n",
            "0  UNCONVERTED           Null  2024-01-29 19:39:42                      1   \n",
            "1  UNCONVERTED           Null  2024-01-29 19:39:44                      1   \n",
            "2  UNCONVERTED           Null  2024-01-29 19:39:45                      1   \n",
            "3    COMPLETED       OXXO Pay  2024-01-29 19:39:47                      1   \n",
            "4    COMPLETED         PayPal  2024-01-29 19:39:48                      1   \n",
            "\n",
            "   DAILY_PURCHASE_COUNT  \n",
            "0                     1  \n",
            "1                     1  \n",
            "2                     1  \n",
            "3                     1  \n",
            "4                     1  \n"
          ]
        }
      ]
    },
    {
      "cell_type": "code",
      "source": [
        "df_simulated_data.to_csv('simulated_data.csv', index=False)"
      ],
      "metadata": {
        "id": "ymktcAsixNnS"
      },
      "execution_count": 22,
      "outputs": []
    },
    {
      "cell_type": "code",
      "source": [],
      "metadata": {
        "id": "UrrOOHTbxbbm"
      },
      "execution_count": null,
      "outputs": []
    }
  ]
}